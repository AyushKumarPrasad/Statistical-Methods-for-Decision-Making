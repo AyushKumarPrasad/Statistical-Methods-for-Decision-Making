{
 "cells": [
  {
   "cell_type": "code",
   "execution_count": 65,
   "id": "8ff44bb0",
   "metadata": {},
   "outputs": [],
   "source": [
    "import numpy as np\n",
    "import pandas as pd\n",
    "from matplotlib import pyplot as plt\n",
    "%matplotlib inline\n",
    "import seaborn as snsF\n",
    "import os\n"
   ]
  },
  {
   "cell_type": "code",
   "execution_count": 66,
   "id": "c9470169",
   "metadata": {},
   "outputs": [
    {
     "data": {
      "text/plain": [
       "'D:\\\\Data Science\\\\September\\\\Statistical Methods For Decision Making'"
      ]
     },
     "execution_count": 66,
     "metadata": {},
     "output_type": "execute_result"
    }
   ],
   "source": [
    "os.getcwd() # Checking Working directory"
   ]
  },
  {
   "cell_type": "code",
   "execution_count": 67,
   "id": "6170c4f3",
   "metadata": {},
   "outputs": [],
   "source": [
    "df = pd.read_csv('Referral_Join_Prediction.csv')"
   ]
  },
  {
   "cell_type": "code",
   "execution_count": 68,
   "id": "ea6b7954",
   "metadata": {},
   "outputs": [
    {
     "data": {
      "text/html": [
       "<div>\n",
       "<style scoped>\n",
       "    .dataframe tbody tr th:only-of-type {\n",
       "        vertical-align: middle;\n",
       "    }\n",
       "\n",
       "    .dataframe tbody tr th {\n",
       "        vertical-align: top;\n",
       "    }\n",
       "\n",
       "    .dataframe thead th {\n",
       "        text-align: right;\n",
       "    }\n",
       "</style>\n",
       "<table border=\"1\" class=\"dataframe\">\n",
       "  <thead>\n",
       "    <tr style=\"text-align: right;\">\n",
       "      <th></th>\n",
       "      <th>referral_id</th>\n",
       "      <th>referral_age</th>\n",
       "      <th>referral_exp_in_years</th>\n",
       "      <th>referral_preferred_city</th>\n",
       "      <th>referral_current_salary</th>\n",
       "      <th>referral_10_th_marks</th>\n",
       "      <th>referral_12th_marks</th>\n",
       "      <th>referral_graduation_marks</th>\n",
       "      <th>referral_post_grad_marks</th>\n",
       "      <th>referral_gender</th>\n",
       "      <th>referral_expected_sal</th>\n",
       "      <th>referral_aptitude_numerical_score</th>\n",
       "      <th>referral_aptitude_verbal_score</th>\n",
       "      <th>referral_aptitude_reasoning_score</th>\n",
       "      <th>referral_Management_Interview_score</th>\n",
       "      <th>referral_HR_Interview_score</th>\n",
       "      <th>Salary offered</th>\n",
       "      <th>Emp_Salary_Grade</th>\n",
       "      <th>Joined</th>\n",
       "    </tr>\n",
       "  </thead>\n",
       "  <tbody>\n",
       "    <tr>\n",
       "      <th>0</th>\n",
       "      <td>1</td>\n",
       "      <td>28</td>\n",
       "      <td>5.0</td>\n",
       "      <td>Delhi</td>\n",
       "      <td>106</td>\n",
       "      <td>89.0</td>\n",
       "      <td>72</td>\n",
       "      <td>87.0</td>\n",
       "      <td>83.0</td>\n",
       "      <td>Male</td>\n",
       "      <td>123.0</td>\n",
       "      <td>10.00</td>\n",
       "      <td>33.04</td>\n",
       "      <td>?</td>\n",
       "      <td>10.0</td>\n",
       "      <td>3</td>\n",
       "      <td>141</td>\n",
       "      <td>EL0</td>\n",
       "      <td>Yes</td>\n",
       "    </tr>\n",
       "    <tr>\n",
       "      <th>1</th>\n",
       "      <td>2</td>\n",
       "      <td>26</td>\n",
       "      <td>3.0</td>\n",
       "      <td>Pune</td>\n",
       "      <td>65</td>\n",
       "      <td>63.0</td>\n",
       "      <td>77</td>\n",
       "      <td>94.0</td>\n",
       "      <td>85.0</td>\n",
       "      <td>Male</td>\n",
       "      <td>83.0</td>\n",
       "      <td>6.09</td>\n",
       "      <td>27.39</td>\n",
       "      <td>20.87</td>\n",
       "      <td>10.0</td>\n",
       "      <td>10</td>\n",
       "      <td>80</td>\n",
       "      <td>ML0</td>\n",
       "      <td>Yes</td>\n",
       "    </tr>\n",
       "    <tr>\n",
       "      <th>2</th>\n",
       "      <td>3</td>\n",
       "      <td>23</td>\n",
       "      <td>2.0</td>\n",
       "      <td>Mumbai</td>\n",
       "      <td>45</td>\n",
       "      <td>92.0</td>\n",
       "      <td>85</td>\n",
       "      <td>84.0</td>\n",
       "      <td>72.0</td>\n",
       "      <td>Male</td>\n",
       "      <td>62.0</td>\n",
       "      <td>41.74</td>\n",
       "      <td>2.61</td>\n",
       "      <td>40.00</td>\n",
       "      <td>2.0</td>\n",
       "      <td>1</td>\n",
       "      <td>60</td>\n",
       "      <td>EL0</td>\n",
       "      <td>No</td>\n",
       "    </tr>\n",
       "    <tr>\n",
       "      <th>3</th>\n",
       "      <td>4</td>\n",
       "      <td>29</td>\n",
       "      <td>6.0</td>\n",
       "      <td>Bangalore</td>\n",
       "      <td>126</td>\n",
       "      <td>60.0</td>\n",
       "      <td>95</td>\n",
       "      <td>95.0</td>\n",
       "      <td>67.0</td>\n",
       "      <td>Male</td>\n",
       "      <td>146.0</td>\n",
       "      <td>31.30</td>\n",
       "      <td>9.13</td>\n",
       "      <td>23.48</td>\n",
       "      <td>9.0</td>\n",
       "      <td>3</td>\n",
       "      <td>142</td>\n",
       "      <td>ML0</td>\n",
       "      <td>Yes</td>\n",
       "    </tr>\n",
       "    <tr>\n",
       "      <th>4</th>\n",
       "      <td>5</td>\n",
       "      <td>26</td>\n",
       "      <td>3.0</td>\n",
       "      <td>Mumbai</td>\n",
       "      <td>65</td>\n",
       "      <td>92.0</td>\n",
       "      <td>70</td>\n",
       "      <td>80.0</td>\n",
       "      <td>92.0</td>\n",
       "      <td>Female</td>\n",
       "      <td>83.0</td>\n",
       "      <td>25.65</td>\n",
       "      <td>30.43</td>\n",
       "      <td>16.52</td>\n",
       "      <td>7.0</td>\n",
       "      <td>4</td>\n",
       "      <td>89</td>\n",
       "      <td>EL0</td>\n",
       "      <td>Yes</td>\n",
       "    </tr>\n",
       "  </tbody>\n",
       "</table>\n",
       "</div>"
      ],
      "text/plain": [
       "   referral_id  referral_age  referral_exp_in_years referral_preferred_city  \\\n",
       "0            1            28                    5.0                   Delhi   \n",
       "1            2            26                    3.0                    Pune   \n",
       "2            3            23                    2.0                  Mumbai   \n",
       "3            4            29                    6.0               Bangalore   \n",
       "4            5            26                    3.0                  Mumbai   \n",
       "\n",
       "   referral_current_salary  referral_10_th_marks  referral_12th_marks  \\\n",
       "0                      106                  89.0                   72   \n",
       "1                       65                  63.0                   77   \n",
       "2                       45                  92.0                   85   \n",
       "3                      126                  60.0                   95   \n",
       "4                       65                  92.0                   70   \n",
       "\n",
       "   referral_graduation_marks  referral_post_grad_marks referral_gender  \\\n",
       "0                       87.0                      83.0            Male   \n",
       "1                       94.0                      85.0            Male   \n",
       "2                       84.0                      72.0            Male   \n",
       "3                       95.0                      67.0            Male   \n",
       "4                       80.0                      92.0          Female   \n",
       "\n",
       "   referral_expected_sal referral_aptitude_numerical_score  \\\n",
       "0                  123.0                             10.00   \n",
       "1                   83.0                              6.09   \n",
       "2                   62.0                             41.74   \n",
       "3                  146.0                             31.30   \n",
       "4                   83.0                             25.65   \n",
       "\n",
       "   referral_aptitude_verbal_score referral_aptitude_reasoning_score  \\\n",
       "0                           33.04                                 ?   \n",
       "1                           27.39                             20.87   \n",
       "2                            2.61                             40.00   \n",
       "3                            9.13                             23.48   \n",
       "4                           30.43                             16.52   \n",
       "\n",
       "   referral_Management_Interview_score  referral_HR_Interview_score  \\\n",
       "0                                 10.0                            3   \n",
       "1                                 10.0                           10   \n",
       "2                                  2.0                            1   \n",
       "3                                  9.0                            3   \n",
       "4                                  7.0                            4   \n",
       "\n",
       "   Salary offered Emp_Salary_Grade Joined  \n",
       "0             141              EL0    Yes  \n",
       "1              80              ML0    Yes  \n",
       "2              60              EL0     No  \n",
       "3             142              ML0    Yes  \n",
       "4              89              EL0    Yes  "
      ]
     },
     "execution_count": 68,
     "metadata": {},
     "output_type": "execute_result"
    }
   ],
   "source": [
    "df.head(5)"
   ]
  },
  {
   "cell_type": "code",
   "execution_count": 69,
   "id": "01a0f5b3",
   "metadata": {},
   "outputs": [
    {
     "data": {
      "text/html": [
       "<div>\n",
       "<style scoped>\n",
       "    .dataframe tbody tr th:only-of-type {\n",
       "        vertical-align: middle;\n",
       "    }\n",
       "\n",
       "    .dataframe tbody tr th {\n",
       "        vertical-align: top;\n",
       "    }\n",
       "\n",
       "    .dataframe thead th {\n",
       "        text-align: right;\n",
       "    }\n",
       "</style>\n",
       "<table border=\"1\" class=\"dataframe\">\n",
       "  <thead>\n",
       "    <tr style=\"text-align: right;\">\n",
       "      <th></th>\n",
       "      <th>count</th>\n",
       "      <th>unique</th>\n",
       "      <th>top</th>\n",
       "      <th>freq</th>\n",
       "      <th>mean</th>\n",
       "      <th>std</th>\n",
       "      <th>min</th>\n",
       "      <th>25%</th>\n",
       "      <th>50%</th>\n",
       "      <th>75%</th>\n",
       "      <th>max</th>\n",
       "    </tr>\n",
       "  </thead>\n",
       "  <tbody>\n",
       "    <tr>\n",
       "      <th>referral_id</th>\n",
       "      <td>499.0</td>\n",
       "      <td>NaN</td>\n",
       "      <td>NaN</td>\n",
       "      <td>NaN</td>\n",
       "      <td>250.0</td>\n",
       "      <td>144.193157</td>\n",
       "      <td>1.0</td>\n",
       "      <td>125.5</td>\n",
       "      <td>250.0</td>\n",
       "      <td>374.5</td>\n",
       "      <td>499.0</td>\n",
       "    </tr>\n",
       "    <tr>\n",
       "      <th>referral_age</th>\n",
       "      <td>499.0</td>\n",
       "      <td>NaN</td>\n",
       "      <td>NaN</td>\n",
       "      <td>NaN</td>\n",
       "      <td>27.02004</td>\n",
       "      <td>2.811979</td>\n",
       "      <td>20.0</td>\n",
       "      <td>25.0</td>\n",
       "      <td>27.0</td>\n",
       "      <td>29.0</td>\n",
       "      <td>65.0</td>\n",
       "    </tr>\n",
       "    <tr>\n",
       "      <th>referral_exp_in_years</th>\n",
       "      <td>499.0</td>\n",
       "      <td>NaN</td>\n",
       "      <td>NaN</td>\n",
       "      <td>NaN</td>\n",
       "      <td>4.053307</td>\n",
       "      <td>2.609814</td>\n",
       "      <td>1.0</td>\n",
       "      <td>2.0</td>\n",
       "      <td>4.0</td>\n",
       "      <td>6.0</td>\n",
       "      <td>42.0</td>\n",
       "    </tr>\n",
       "    <tr>\n",
       "      <th>referral_preferred_city</th>\n",
       "      <td>499</td>\n",
       "      <td>4</td>\n",
       "      <td>Mumbai</td>\n",
       "      <td>232</td>\n",
       "      <td>NaN</td>\n",
       "      <td>NaN</td>\n",
       "      <td>NaN</td>\n",
       "      <td>NaN</td>\n",
       "      <td>NaN</td>\n",
       "      <td>NaN</td>\n",
       "      <td>NaN</td>\n",
       "    </tr>\n",
       "    <tr>\n",
       "      <th>referral_current_salary</th>\n",
       "      <td>499.0</td>\n",
       "      <td>NaN</td>\n",
       "      <td>NaN</td>\n",
       "      <td>NaN</td>\n",
       "      <td>86.472946</td>\n",
       "      <td>52.566584</td>\n",
       "      <td>25.0</td>\n",
       "      <td>45.0</td>\n",
       "      <td>85.0</td>\n",
       "      <td>126.0</td>\n",
       "      <td>853.0</td>\n",
       "    </tr>\n",
       "    <tr>\n",
       "      <th>referral_10_th_marks</th>\n",
       "      <td>498.0</td>\n",
       "      <td>NaN</td>\n",
       "      <td>NaN</td>\n",
       "      <td>NaN</td>\n",
       "      <td>77.295181</td>\n",
       "      <td>11.128083</td>\n",
       "      <td>-1.0</td>\n",
       "      <td>68.0</td>\n",
       "      <td>78.0</td>\n",
       "      <td>87.0</td>\n",
       "      <td>103.0</td>\n",
       "    </tr>\n",
       "    <tr>\n",
       "      <th>referral_12th_marks</th>\n",
       "      <td>499.0</td>\n",
       "      <td>NaN</td>\n",
       "      <td>NaN</td>\n",
       "      <td>NaN</td>\n",
       "      <td>77.478958</td>\n",
       "      <td>10.932113</td>\n",
       "      <td>12.0</td>\n",
       "      <td>69.0</td>\n",
       "      <td>77.0</td>\n",
       "      <td>87.0</td>\n",
       "      <td>95.0</td>\n",
       "    </tr>\n",
       "    <tr>\n",
       "      <th>referral_graduation_marks</th>\n",
       "      <td>498.0</td>\n",
       "      <td>NaN</td>\n",
       "      <td>NaN</td>\n",
       "      <td>NaN</td>\n",
       "      <td>77.096386</td>\n",
       "      <td>10.812223</td>\n",
       "      <td>-1.0</td>\n",
       "      <td>68.0</td>\n",
       "      <td>77.0</td>\n",
       "      <td>86.0</td>\n",
       "      <td>104.0</td>\n",
       "    </tr>\n",
       "    <tr>\n",
       "      <th>referral_post_grad_marks</th>\n",
       "      <td>498.0</td>\n",
       "      <td>NaN</td>\n",
       "      <td>NaN</td>\n",
       "      <td>NaN</td>\n",
       "      <td>78.269076</td>\n",
       "      <td>10.478487</td>\n",
       "      <td>60.0</td>\n",
       "      <td>69.0</td>\n",
       "      <td>78.0</td>\n",
       "      <td>88.75</td>\n",
       "      <td>101.0</td>\n",
       "    </tr>\n",
       "    <tr>\n",
       "      <th>referral_gender</th>\n",
       "      <td>499</td>\n",
       "      <td>3</td>\n",
       "      <td>Male</td>\n",
       "      <td>260</td>\n",
       "      <td>NaN</td>\n",
       "      <td>NaN</td>\n",
       "      <td>NaN</td>\n",
       "      <td>NaN</td>\n",
       "      <td>NaN</td>\n",
       "      <td>NaN</td>\n",
       "      <td>NaN</td>\n",
       "    </tr>\n",
       "    <tr>\n",
       "      <th>referral_expected_sal</th>\n",
       "      <td>497.0</td>\n",
       "      <td>NaN</td>\n",
       "      <td>NaN</td>\n",
       "      <td>NaN</td>\n",
       "      <td>108.692153</td>\n",
       "      <td>58.722281</td>\n",
       "      <td>40.0</td>\n",
       "      <td>62.0</td>\n",
       "      <td>103.0</td>\n",
       "      <td>143.0</td>\n",
       "      <td>870.0</td>\n",
       "    </tr>\n",
       "    <tr>\n",
       "      <th>referral_aptitude_numerical_score</th>\n",
       "      <td>496</td>\n",
       "      <td>100</td>\n",
       "      <td>36.96</td>\n",
       "      <td>14</td>\n",
       "      <td>NaN</td>\n",
       "      <td>NaN</td>\n",
       "      <td>NaN</td>\n",
       "      <td>NaN</td>\n",
       "      <td>NaN</td>\n",
       "      <td>NaN</td>\n",
       "      <td>NaN</td>\n",
       "    </tr>\n",
       "    <tr>\n",
       "      <th>referral_aptitude_verbal_score</th>\n",
       "      <td>489.0</td>\n",
       "      <td>NaN</td>\n",
       "      <td>NaN</td>\n",
       "      <td>NaN</td>\n",
       "      <td>21.840491</td>\n",
       "      <td>12.338425</td>\n",
       "      <td>0.43</td>\n",
       "      <td>11.74</td>\n",
       "      <td>20.87</td>\n",
       "      <td>32.61</td>\n",
       "      <td>43.48</td>\n",
       "    </tr>\n",
       "    <tr>\n",
       "      <th>referral_aptitude_reasoning_score</th>\n",
       "      <td>495</td>\n",
       "      <td>107</td>\n",
       "      <td>28.26</td>\n",
       "      <td>10</td>\n",
       "      <td>NaN</td>\n",
       "      <td>NaN</td>\n",
       "      <td>NaN</td>\n",
       "      <td>NaN</td>\n",
       "      <td>NaN</td>\n",
       "      <td>NaN</td>\n",
       "      <td>NaN</td>\n",
       "    </tr>\n",
       "    <tr>\n",
       "      <th>referral_Management_Interview_score</th>\n",
       "      <td>498.0</td>\n",
       "      <td>NaN</td>\n",
       "      <td>NaN</td>\n",
       "      <td>NaN</td>\n",
       "      <td>5.732932</td>\n",
       "      <td>2.922706</td>\n",
       "      <td>1.0</td>\n",
       "      <td>3.0</td>\n",
       "      <td>6.0</td>\n",
       "      <td>8.0</td>\n",
       "      <td>10.0</td>\n",
       "    </tr>\n",
       "    <tr>\n",
       "      <th>referral_HR_Interview_score</th>\n",
       "      <td>499.0</td>\n",
       "      <td>NaN</td>\n",
       "      <td>NaN</td>\n",
       "      <td>NaN</td>\n",
       "      <td>5.651303</td>\n",
       "      <td>5.500516</td>\n",
       "      <td>1.0</td>\n",
       "      <td>3.0</td>\n",
       "      <td>5.0</td>\n",
       "      <td>8.0</td>\n",
       "      <td>111.0</td>\n",
       "    </tr>\n",
       "    <tr>\n",
       "      <th>Salary offered</th>\n",
       "      <td>499.0</td>\n",
       "      <td>NaN</td>\n",
       "      <td>NaN</td>\n",
       "      <td>NaN</td>\n",
       "      <td>102.006012</td>\n",
       "      <td>52.619704</td>\n",
       "      <td>40.0</td>\n",
       "      <td>60.0</td>\n",
       "      <td>101.0</td>\n",
       "      <td>141.0</td>\n",
       "      <td>868.0</td>\n",
       "    </tr>\n",
       "    <tr>\n",
       "      <th>Emp_Salary_Grade</th>\n",
       "      <td>499</td>\n",
       "      <td>3</td>\n",
       "      <td>EL0</td>\n",
       "      <td>221</td>\n",
       "      <td>NaN</td>\n",
       "      <td>NaN</td>\n",
       "      <td>NaN</td>\n",
       "      <td>NaN</td>\n",
       "      <td>NaN</td>\n",
       "      <td>NaN</td>\n",
       "      <td>NaN</td>\n",
       "    </tr>\n",
       "    <tr>\n",
       "      <th>Joined</th>\n",
       "      <td>499</td>\n",
       "      <td>2</td>\n",
       "      <td>No</td>\n",
       "      <td>261</td>\n",
       "      <td>NaN</td>\n",
       "      <td>NaN</td>\n",
       "      <td>NaN</td>\n",
       "      <td>NaN</td>\n",
       "      <td>NaN</td>\n",
       "      <td>NaN</td>\n",
       "      <td>NaN</td>\n",
       "    </tr>\n",
       "  </tbody>\n",
       "</table>\n",
       "</div>"
      ],
      "text/plain": [
       "                                     count unique     top freq        mean  \\\n",
       "referral_id                          499.0    NaN     NaN  NaN       250.0   \n",
       "referral_age                         499.0    NaN     NaN  NaN    27.02004   \n",
       "referral_exp_in_years                499.0    NaN     NaN  NaN    4.053307   \n",
       "referral_preferred_city                499      4  Mumbai  232         NaN   \n",
       "referral_current_salary              499.0    NaN     NaN  NaN   86.472946   \n",
       "referral_10_th_marks                 498.0    NaN     NaN  NaN   77.295181   \n",
       "referral_12th_marks                  499.0    NaN     NaN  NaN   77.478958   \n",
       "referral_graduation_marks            498.0    NaN     NaN  NaN   77.096386   \n",
       "referral_post_grad_marks             498.0    NaN     NaN  NaN   78.269076   \n",
       "referral_gender                        499      3    Male  260         NaN   \n",
       "referral_expected_sal                497.0    NaN     NaN  NaN  108.692153   \n",
       "referral_aptitude_numerical_score      496    100   36.96   14         NaN   \n",
       "referral_aptitude_verbal_score       489.0    NaN     NaN  NaN   21.840491   \n",
       "referral_aptitude_reasoning_score      495    107   28.26   10         NaN   \n",
       "referral_Management_Interview_score  498.0    NaN     NaN  NaN    5.732932   \n",
       "referral_HR_Interview_score          499.0    NaN     NaN  NaN    5.651303   \n",
       "Salary offered                       499.0    NaN     NaN  NaN  102.006012   \n",
       "Emp_Salary_Grade                       499      3     EL0  221         NaN   \n",
       "Joined                                 499      2      No  261         NaN   \n",
       "\n",
       "                                            std   min    25%    50%    75%  \\\n",
       "referral_id                          144.193157   1.0  125.5  250.0  374.5   \n",
       "referral_age                           2.811979  20.0   25.0   27.0   29.0   \n",
       "referral_exp_in_years                  2.609814   1.0    2.0    4.0    6.0   \n",
       "referral_preferred_city                     NaN   NaN    NaN    NaN    NaN   \n",
       "referral_current_salary               52.566584  25.0   45.0   85.0  126.0   \n",
       "referral_10_th_marks                  11.128083  -1.0   68.0   78.0   87.0   \n",
       "referral_12th_marks                   10.932113  12.0   69.0   77.0   87.0   \n",
       "referral_graduation_marks             10.812223  -1.0   68.0   77.0   86.0   \n",
       "referral_post_grad_marks              10.478487  60.0   69.0   78.0  88.75   \n",
       "referral_gender                             NaN   NaN    NaN    NaN    NaN   \n",
       "referral_expected_sal                 58.722281  40.0   62.0  103.0  143.0   \n",
       "referral_aptitude_numerical_score           NaN   NaN    NaN    NaN    NaN   \n",
       "referral_aptitude_verbal_score        12.338425  0.43  11.74  20.87  32.61   \n",
       "referral_aptitude_reasoning_score           NaN   NaN    NaN    NaN    NaN   \n",
       "referral_Management_Interview_score    2.922706   1.0    3.0    6.0    8.0   \n",
       "referral_HR_Interview_score            5.500516   1.0    3.0    5.0    8.0   \n",
       "Salary offered                        52.619704  40.0   60.0  101.0  141.0   \n",
       "Emp_Salary_Grade                            NaN   NaN    NaN    NaN    NaN   \n",
       "Joined                                      NaN   NaN    NaN    NaN    NaN   \n",
       "\n",
       "                                       max  \n",
       "referral_id                          499.0  \n",
       "referral_age                          65.0  \n",
       "referral_exp_in_years                 42.0  \n",
       "referral_preferred_city                NaN  \n",
       "referral_current_salary              853.0  \n",
       "referral_10_th_marks                 103.0  \n",
       "referral_12th_marks                   95.0  \n",
       "referral_graduation_marks            104.0  \n",
       "referral_post_grad_marks             101.0  \n",
       "referral_gender                        NaN  \n",
       "referral_expected_sal                870.0  \n",
       "referral_aptitude_numerical_score      NaN  \n",
       "referral_aptitude_verbal_score       43.48  \n",
       "referral_aptitude_reasoning_score      NaN  \n",
       "referral_Management_Interview_score   10.0  \n",
       "referral_HR_Interview_score          111.0  \n",
       "Salary offered                       868.0  \n",
       "Emp_Salary_Grade                       NaN  \n",
       "Joined                                 NaN  "
      ]
     },
     "execution_count": 69,
     "metadata": {},
     "output_type": "execute_result"
    }
   ],
   "source": [
    "df.describe(include='all').T"
   ]
  },
  {
   "cell_type": "code",
   "execution_count": 70,
   "id": "da7ce370",
   "metadata": {},
   "outputs": [
    {
     "name": "stdout",
     "output_type": "stream",
     "text": [
      "<class 'pandas.core.frame.DataFrame'>\n",
      "RangeIndex: 499 entries, 0 to 498\n",
      "Data columns (total 19 columns):\n",
      " #   Column                               Non-Null Count  Dtype  \n",
      "---  ------                               --------------  -----  \n",
      " 0   referral_id                          499 non-null    int64  \n",
      " 1   referral_age                         499 non-null    int64  \n",
      " 2   referral_exp_in_years                499 non-null    float64\n",
      " 3   referral_preferred_city              499 non-null    object \n",
      " 4   referral_current_salary              499 non-null    int64  \n",
      " 5   referral_10_th_marks                 498 non-null    float64\n",
      " 6   referral_12th_marks                  499 non-null    int64  \n",
      " 7   referral_graduation_marks            498 non-null    float64\n",
      " 8   referral_post_grad_marks             498 non-null    float64\n",
      " 9   referral_gender                      499 non-null    object \n",
      " 10  referral_expected_sal                497 non-null    float64\n",
      " 11  referral_aptitude_numerical_score    496 non-null    object \n",
      " 12  referral_aptitude_verbal_score       489 non-null    float64\n",
      " 13  referral_aptitude_reasoning_score    495 non-null    object \n",
      " 14  referral_Management_Interview_score  498 non-null    float64\n",
      " 15  referral_HR_Interview_score          499 non-null    int64  \n",
      " 16  Salary offered                       499 non-null    int64  \n",
      " 17  Emp_Salary_Grade                     499 non-null    object \n",
      " 18  Joined                               499 non-null    object \n",
      "dtypes: float64(7), int64(6), object(6)\n",
      "memory usage: 74.2+ KB\n"
     ]
    }
   ],
   "source": [
    "df.info()"
   ]
  },
  {
   "cell_type": "code",
   "execution_count": 71,
   "id": "935990cf",
   "metadata": {},
   "outputs": [
    {
     "data": {
      "text/plain": [
       "array(['10.00', '6.09', '41.74', '31.30', '25.65', '38.70', '30.43',\n",
       "       '5.65', '18.70', '23.04', '27.39', '28.26', '32.61', '40.00',\n",
       "       '24.78', '0.87', '27.83', '18.26', '20.87', '6.52', '21.74',\n",
       "       '4.78', '26.96', '39.13', '3.04', '13.48', '33.91', '3.48',\n",
       "       '15.65', '13.91', '38.26', '3.91', '28.70', '23.48', '10.43',\n",
       "       '8.26', '39.57', '7.39', '30.87', '5.22', '12.61', '16.96',\n",
       "       '34.35', '33.04', '10.87', '4.35', '35.65', '16.52', '20.43',\n",
       "       '36.52', '40.43', '7.83', '6.96', '22.17', '34.78', '33.48',\n",
       "       '43.48', '0.43', '17.39', '9.13', '29.57', '19.13', '17.83',\n",
       "       '37.83', '36.09', '23.91', '36.96', '19.57', '31.74', '22.61',\n",
       "       '12.17', '37.39', '14.78', '30.00', '11.74', '35.22', '2.61',\n",
       "       '40.87', '42.61', '29.13', '?', '9.57', '43.04', '13.04', '25.22',\n",
       "       '1.74', '15.22', '11.30', '32.17', '14.35', '20.00', nan, '2.17',\n",
       "       '26.52', '26.09', '1.30', '8.70', '41.30', '16.09', '42.17',\n",
       "       '24.35'], dtype=object)"
      ]
     },
     "execution_count": 71,
     "metadata": {},
     "output_type": "execute_result"
    }
   ],
   "source": [
    "df['referral_aptitude_numerical_score'].unique()"
   ]
  },
  {
   "cell_type": "markdown",
   "id": "02971745",
   "metadata": {},
   "source": [
    "# To replace the ? in the data we will use np.NaN method - So that we are able to calculate the central tendency like mean, median, mode, IQR"
   ]
  },
  {
   "cell_type": "code",
   "execution_count": 72,
   "id": "6c330dd3",
   "metadata": {},
   "outputs": [],
   "source": [
    "df['referral_aptitude_reasoning_score'].replace('?',np.NaN,inplace=True)\n",
    "df['referral_aptitude_numerical_score'].replace('?',np.NaN,inplace=True)"
   ]
  },
  {
   "cell_type": "markdown",
   "id": "8de6908d",
   "metadata": {},
   "source": [
    "# After changing the ? to Na values we will also change the data type to float, Below is the method "
   ]
  },
  {
   "cell_type": "code",
   "execution_count": 73,
   "id": "9b4b0ef1",
   "metadata": {},
   "outputs": [],
   "source": [
    "df['referral_aptitude_reasoning_score'] = df['referral_aptitude_reasoning_score'].astype('float64')\n",
    "df['referral_aptitude_numerical_score'] = df['referral_aptitude_numerical_score'].astype('float64')"
   ]
  },
  {
   "cell_type": "code",
   "execution_count": 74,
   "id": "08bfa3cd",
   "metadata": {},
   "outputs": [
    {
     "name": "stdout",
     "output_type": "stream",
     "text": [
      "<class 'pandas.core.frame.DataFrame'>\n",
      "RangeIndex: 499 entries, 0 to 498\n",
      "Data columns (total 19 columns):\n",
      " #   Column                               Non-Null Count  Dtype  \n",
      "---  ------                               --------------  -----  \n",
      " 0   referral_id                          499 non-null    int64  \n",
      " 1   referral_age                         499 non-null    int64  \n",
      " 2   referral_exp_in_years                499 non-null    float64\n",
      " 3   referral_preferred_city              499 non-null    object \n",
      " 4   referral_current_salary              499 non-null    int64  \n",
      " 5   referral_10_th_marks                 498 non-null    float64\n",
      " 6   referral_12th_marks                  499 non-null    int64  \n",
      " 7   referral_graduation_marks            498 non-null    float64\n",
      " 8   referral_post_grad_marks             498 non-null    float64\n",
      " 9   referral_gender                      499 non-null    object \n",
      " 10  referral_expected_sal                497 non-null    float64\n",
      " 11  referral_aptitude_numerical_score    495 non-null    float64\n",
      " 12  referral_aptitude_verbal_score       489 non-null    float64\n",
      " 13  referral_aptitude_reasoning_score    491 non-null    float64\n",
      " 14  referral_Management_Interview_score  498 non-null    float64\n",
      " 15  referral_HR_Interview_score          499 non-null    int64  \n",
      " 16  Salary offered                       499 non-null    int64  \n",
      " 17  Emp_Salary_Grade                     499 non-null    object \n",
      " 18  Joined                               499 non-null    object \n",
      "dtypes: float64(9), int64(6), object(4)\n",
      "memory usage: 74.2+ KB\n"
     ]
    }
   ],
   "source": [
    "df.info()"
   ]
  },
  {
   "cell_type": "markdown",
   "id": "6a38402c",
   "metadata": {},
   "source": [
    "# Now we will treat anomalies - It means the domian corrections like marks cannot be negative"
   ]
  },
  {
   "cell_type": "code",
   "execution_count": 75,
   "id": "c7a7f4e7",
   "metadata": {},
   "outputs": [
    {
     "data": {
      "text/html": [
       "<div>\n",
       "<style scoped>\n",
       "    .dataframe tbody tr th:only-of-type {\n",
       "        vertical-align: middle;\n",
       "    }\n",
       "\n",
       "    .dataframe tbody tr th {\n",
       "        vertical-align: top;\n",
       "    }\n",
       "\n",
       "    .dataframe thead th {\n",
       "        text-align: right;\n",
       "    }\n",
       "</style>\n",
       "<table border=\"1\" class=\"dataframe\">\n",
       "  <thead>\n",
       "    <tr style=\"text-align: right;\">\n",
       "      <th></th>\n",
       "      <th>referral_id</th>\n",
       "      <th>referral_age</th>\n",
       "      <th>referral_exp_in_years</th>\n",
       "      <th>referral_preferred_city</th>\n",
       "      <th>referral_current_salary</th>\n",
       "      <th>referral_10_th_marks</th>\n",
       "      <th>referral_12th_marks</th>\n",
       "      <th>referral_graduation_marks</th>\n",
       "      <th>referral_post_grad_marks</th>\n",
       "      <th>referral_gender</th>\n",
       "      <th>referral_expected_sal</th>\n",
       "      <th>referral_aptitude_numerical_score</th>\n",
       "      <th>referral_aptitude_verbal_score</th>\n",
       "      <th>referral_aptitude_reasoning_score</th>\n",
       "      <th>referral_Management_Interview_score</th>\n",
       "      <th>referral_HR_Interview_score</th>\n",
       "      <th>Salary offered</th>\n",
       "      <th>Emp_Salary_Grade</th>\n",
       "      <th>Joined</th>\n",
       "    </tr>\n",
       "  </thead>\n",
       "  <tbody>\n",
       "    <tr>\n",
       "      <th>89</th>\n",
       "      <td>90</td>\n",
       "      <td>27</td>\n",
       "      <td>4.0</td>\n",
       "      <td>Bangalore</td>\n",
       "      <td>85</td>\n",
       "      <td>-1.0</td>\n",
       "      <td>81</td>\n",
       "      <td>93.0</td>\n",
       "      <td>86.0</td>\n",
       "      <td>Female</td>\n",
       "      <td>103.0</td>\n",
       "      <td>31.74</td>\n",
       "      <td>6.52</td>\n",
       "      <td>30.43</td>\n",
       "      <td>10.0</td>\n",
       "      <td>3</td>\n",
       "      <td>101</td>\n",
       "      <td>EL0</td>\n",
       "      <td>Yes</td>\n",
       "    </tr>\n",
       "  </tbody>\n",
       "</table>\n",
       "</div>"
      ],
      "text/plain": [
       "    referral_id  referral_age  referral_exp_in_years referral_preferred_city  \\\n",
       "89           90            27                    4.0               Bangalore   \n",
       "\n",
       "    referral_current_salary  referral_10_th_marks  referral_12th_marks  \\\n",
       "89                       85                  -1.0                   81   \n",
       "\n",
       "    referral_graduation_marks  referral_post_grad_marks referral_gender  \\\n",
       "89                       93.0                      86.0          Female   \n",
       "\n",
       "    referral_expected_sal  referral_aptitude_numerical_score  \\\n",
       "89                  103.0                              31.74   \n",
       "\n",
       "    referral_aptitude_verbal_score  referral_aptitude_reasoning_score  \\\n",
       "89                            6.52                              30.43   \n",
       "\n",
       "    referral_Management_Interview_score  referral_HR_Interview_score  \\\n",
       "89                                 10.0                            3   \n",
       "\n",
       "    Salary offered Emp_Salary_Grade Joined  \n",
       "89             101              EL0    Yes  "
      ]
     },
     "execution_count": 75,
     "metadata": {},
     "output_type": "execute_result"
    }
   ],
   "source": [
    "df[df['referral_10_th_marks'] < 35]"
   ]
  },
  {
   "cell_type": "code",
   "execution_count": 76,
   "id": "7ece94c3",
   "metadata": {},
   "outputs": [
    {
     "data": {
      "text/html": [
       "<div>\n",
       "<style scoped>\n",
       "    .dataframe tbody tr th:only-of-type {\n",
       "        vertical-align: middle;\n",
       "    }\n",
       "\n",
       "    .dataframe tbody tr th {\n",
       "        vertical-align: top;\n",
       "    }\n",
       "\n",
       "    .dataframe thead th {\n",
       "        text-align: right;\n",
       "    }\n",
       "</style>\n",
       "<table border=\"1\" class=\"dataframe\">\n",
       "  <thead>\n",
       "    <tr style=\"text-align: right;\">\n",
       "      <th></th>\n",
       "      <th>referral_id</th>\n",
       "      <th>referral_age</th>\n",
       "      <th>referral_exp_in_years</th>\n",
       "      <th>referral_preferred_city</th>\n",
       "      <th>referral_current_salary</th>\n",
       "      <th>referral_10_th_marks</th>\n",
       "      <th>referral_12th_marks</th>\n",
       "      <th>referral_graduation_marks</th>\n",
       "      <th>referral_post_grad_marks</th>\n",
       "      <th>referral_gender</th>\n",
       "      <th>referral_expected_sal</th>\n",
       "      <th>referral_aptitude_numerical_score</th>\n",
       "      <th>referral_aptitude_verbal_score</th>\n",
       "      <th>referral_aptitude_reasoning_score</th>\n",
       "      <th>referral_Management_Interview_score</th>\n",
       "      <th>referral_HR_Interview_score</th>\n",
       "      <th>Salary offered</th>\n",
       "      <th>Emp_Salary_Grade</th>\n",
       "      <th>Joined</th>\n",
       "    </tr>\n",
       "  </thead>\n",
       "  <tbody>\n",
       "    <tr>\n",
       "      <th>270</th>\n",
       "      <td>271</td>\n",
       "      <td>29</td>\n",
       "      <td>6.0</td>\n",
       "      <td>Bangalore</td>\n",
       "      <td>126</td>\n",
       "      <td>82.0</td>\n",
       "      <td>88</td>\n",
       "      <td>-1.0</td>\n",
       "      <td>64.0</td>\n",
       "      <td>Male</td>\n",
       "      <td>143.0</td>\n",
       "      <td>10.43</td>\n",
       "      <td>27.39</td>\n",
       "      <td>27.83</td>\n",
       "      <td>1.0</td>\n",
       "      <td>6</td>\n",
       "      <td>141</td>\n",
       "      <td>ML0</td>\n",
       "      <td>No</td>\n",
       "    </tr>\n",
       "  </tbody>\n",
       "</table>\n",
       "</div>"
      ],
      "text/plain": [
       "     referral_id  referral_age  referral_exp_in_years referral_preferred_city  \\\n",
       "270          271            29                    6.0               Bangalore   \n",
       "\n",
       "     referral_current_salary  referral_10_th_marks  referral_12th_marks  \\\n",
       "270                      126                  82.0                   88   \n",
       "\n",
       "     referral_graduation_marks  referral_post_grad_marks referral_gender  \\\n",
       "270                       -1.0                      64.0            Male   \n",
       "\n",
       "     referral_expected_sal  referral_aptitude_numerical_score  \\\n",
       "270                  143.0                              10.43   \n",
       "\n",
       "     referral_aptitude_verbal_score  referral_aptitude_reasoning_score  \\\n",
       "270                           27.39                              27.83   \n",
       "\n",
       "     referral_Management_Interview_score  referral_HR_Interview_score  \\\n",
       "270                                  1.0                            6   \n",
       "\n",
       "     Salary offered Emp_Salary_Grade Joined  \n",
       "270             141              ML0     No  "
      ]
     },
     "execution_count": 76,
     "metadata": {},
     "output_type": "execute_result"
    }
   ],
   "source": [
    "df[df['referral_graduation_marks'] < 35]"
   ]
  },
  {
   "cell_type": "markdown",
   "id": "825d278b",
   "metadata": {},
   "source": [
    "# Let's assume 10th marks is similar as 12th marks and impute the value"
   ]
  },
  {
   "cell_type": "markdown",
   "id": "38d7a510",
   "metadata": {},
   "source": [
    "# There is where function in numpy - Similarm to if conditon in excel - very interesting and important"
   ]
  },
  {
   "cell_type": "code",
   "execution_count": 79,
   "id": "60ebecd8",
   "metadata": {},
   "outputs": [],
   "source": [
    "df['referral_10_th_marks'] = np.where(df['referral_10_th_marks'] == -1 , df['referral_12th_marks'],df['referral_10_th_marks'])"
   ]
  },
  {
   "cell_type": "code",
   "execution_count": 80,
   "id": "99e093bf",
   "metadata": {},
   "outputs": [
    {
     "data": {
      "text/plain": [
       "referral_id                                   90\n",
       "referral_age                                  27\n",
       "referral_exp_in_years                        4.0\n",
       "referral_preferred_city                Bangalore\n",
       "referral_current_salary                       85\n",
       "referral_10_th_marks                        81.0\n",
       "referral_12th_marks                           81\n",
       "referral_graduation_marks                   93.0\n",
       "referral_post_grad_marks                    86.0\n",
       "referral_gender                           Female\n",
       "referral_expected_sal                      103.0\n",
       "referral_aptitude_numerical_score          31.74\n",
       "referral_aptitude_verbal_score              6.52\n",
       "referral_aptitude_reasoning_score          30.43\n",
       "referral_Management_Interview_score         10.0\n",
       "referral_HR_Interview_score                    3\n",
       "Salary offered                               101\n",
       "Emp_Salary_Grade                             EL0\n",
       "Joined                                       Yes\n",
       "Name: 89, dtype: object"
      ]
     },
     "execution_count": 80,
     "metadata": {},
     "output_type": "execute_result"
    }
   ],
   "source": [
    "df.iloc[89]"
   ]
  },
  {
   "cell_type": "code",
   "execution_count": 81,
   "id": "20581cec",
   "metadata": {},
   "outputs": [
    {
     "data": {
      "text/html": [
       "<div>\n",
       "<style scoped>\n",
       "    .dataframe tbody tr th:only-of-type {\n",
       "        vertical-align: middle;\n",
       "    }\n",
       "\n",
       "    .dataframe tbody tr th {\n",
       "        vertical-align: top;\n",
       "    }\n",
       "\n",
       "    .dataframe thead th {\n",
       "        text-align: right;\n",
       "    }\n",
       "</style>\n",
       "<table border=\"1\" class=\"dataframe\">\n",
       "  <thead>\n",
       "    <tr style=\"text-align: right;\">\n",
       "      <th></th>\n",
       "      <th>count</th>\n",
       "      <th>mean</th>\n",
       "      <th>std</th>\n",
       "      <th>min</th>\n",
       "      <th>25%</th>\n",
       "      <th>50%</th>\n",
       "      <th>75%</th>\n",
       "      <th>max</th>\n",
       "    </tr>\n",
       "  </thead>\n",
       "  <tbody>\n",
       "    <tr>\n",
       "      <th>referral_id</th>\n",
       "      <td>499.0</td>\n",
       "      <td>250.000000</td>\n",
       "      <td>144.193157</td>\n",
       "      <td>1.00</td>\n",
       "      <td>125.50</td>\n",
       "      <td>250.00</td>\n",
       "      <td>374.50</td>\n",
       "      <td>499.00</td>\n",
       "    </tr>\n",
       "    <tr>\n",
       "      <th>referral_age</th>\n",
       "      <td>499.0</td>\n",
       "      <td>27.020040</td>\n",
       "      <td>2.811979</td>\n",
       "      <td>20.00</td>\n",
       "      <td>25.00</td>\n",
       "      <td>27.00</td>\n",
       "      <td>29.00</td>\n",
       "      <td>65.00</td>\n",
       "    </tr>\n",
       "    <tr>\n",
       "      <th>referral_exp_in_years</th>\n",
       "      <td>499.0</td>\n",
       "      <td>4.053307</td>\n",
       "      <td>2.609814</td>\n",
       "      <td>1.00</td>\n",
       "      <td>2.00</td>\n",
       "      <td>4.00</td>\n",
       "      <td>6.00</td>\n",
       "      <td>42.00</td>\n",
       "    </tr>\n",
       "    <tr>\n",
       "      <th>referral_current_salary</th>\n",
       "      <td>499.0</td>\n",
       "      <td>86.472946</td>\n",
       "      <td>52.566584</td>\n",
       "      <td>25.00</td>\n",
       "      <td>45.00</td>\n",
       "      <td>85.00</td>\n",
       "      <td>126.00</td>\n",
       "      <td>853.00</td>\n",
       "    </tr>\n",
       "    <tr>\n",
       "      <th>referral_10_th_marks</th>\n",
       "      <td>498.0</td>\n",
       "      <td>77.459839</td>\n",
       "      <td>10.559375</td>\n",
       "      <td>60.00</td>\n",
       "      <td>68.00</td>\n",
       "      <td>78.00</td>\n",
       "      <td>87.00</td>\n",
       "      <td>103.00</td>\n",
       "    </tr>\n",
       "    <tr>\n",
       "      <th>referral_12th_marks</th>\n",
       "      <td>499.0</td>\n",
       "      <td>77.478958</td>\n",
       "      <td>10.932113</td>\n",
       "      <td>12.00</td>\n",
       "      <td>69.00</td>\n",
       "      <td>77.00</td>\n",
       "      <td>87.00</td>\n",
       "      <td>95.00</td>\n",
       "    </tr>\n",
       "    <tr>\n",
       "      <th>referral_graduation_marks</th>\n",
       "      <td>498.0</td>\n",
       "      <td>77.096386</td>\n",
       "      <td>10.812223</td>\n",
       "      <td>-1.00</td>\n",
       "      <td>68.00</td>\n",
       "      <td>77.00</td>\n",
       "      <td>86.00</td>\n",
       "      <td>104.00</td>\n",
       "    </tr>\n",
       "    <tr>\n",
       "      <th>referral_post_grad_marks</th>\n",
       "      <td>498.0</td>\n",
       "      <td>78.269076</td>\n",
       "      <td>10.478487</td>\n",
       "      <td>60.00</td>\n",
       "      <td>69.00</td>\n",
       "      <td>78.00</td>\n",
       "      <td>88.75</td>\n",
       "      <td>101.00</td>\n",
       "    </tr>\n",
       "    <tr>\n",
       "      <th>referral_expected_sal</th>\n",
       "      <td>497.0</td>\n",
       "      <td>108.692153</td>\n",
       "      <td>58.722281</td>\n",
       "      <td>40.00</td>\n",
       "      <td>62.00</td>\n",
       "      <td>103.00</td>\n",
       "      <td>143.00</td>\n",
       "      <td>870.00</td>\n",
       "    </tr>\n",
       "    <tr>\n",
       "      <th>referral_aptitude_numerical_score</th>\n",
       "      <td>495.0</td>\n",
       "      <td>20.975737</td>\n",
       "      <td>12.557692</td>\n",
       "      <td>0.43</td>\n",
       "      <td>10.00</td>\n",
       "      <td>20.43</td>\n",
       "      <td>32.17</td>\n",
       "      <td>43.48</td>\n",
       "    </tr>\n",
       "    <tr>\n",
       "      <th>referral_aptitude_verbal_score</th>\n",
       "      <td>489.0</td>\n",
       "      <td>21.840491</td>\n",
       "      <td>12.338425</td>\n",
       "      <td>0.43</td>\n",
       "      <td>11.74</td>\n",
       "      <td>20.87</td>\n",
       "      <td>32.61</td>\n",
       "      <td>43.48</td>\n",
       "    </tr>\n",
       "    <tr>\n",
       "      <th>referral_aptitude_reasoning_score</th>\n",
       "      <td>491.0</td>\n",
       "      <td>23.710407</td>\n",
       "      <td>13.500118</td>\n",
       "      <td>0.23</td>\n",
       "      <td>13.04</td>\n",
       "      <td>23.48</td>\n",
       "      <td>34.78</td>\n",
       "      <td>89.00</td>\n",
       "    </tr>\n",
       "    <tr>\n",
       "      <th>referral_Management_Interview_score</th>\n",
       "      <td>498.0</td>\n",
       "      <td>5.732932</td>\n",
       "      <td>2.922706</td>\n",
       "      <td>1.00</td>\n",
       "      <td>3.00</td>\n",
       "      <td>6.00</td>\n",
       "      <td>8.00</td>\n",
       "      <td>10.00</td>\n",
       "    </tr>\n",
       "    <tr>\n",
       "      <th>referral_HR_Interview_score</th>\n",
       "      <td>499.0</td>\n",
       "      <td>5.651303</td>\n",
       "      <td>5.500516</td>\n",
       "      <td>1.00</td>\n",
       "      <td>3.00</td>\n",
       "      <td>5.00</td>\n",
       "      <td>8.00</td>\n",
       "      <td>111.00</td>\n",
       "    </tr>\n",
       "    <tr>\n",
       "      <th>Salary offered</th>\n",
       "      <td>499.0</td>\n",
       "      <td>102.006012</td>\n",
       "      <td>52.619704</td>\n",
       "      <td>40.00</td>\n",
       "      <td>60.00</td>\n",
       "      <td>101.00</td>\n",
       "      <td>141.00</td>\n",
       "      <td>868.00</td>\n",
       "    </tr>\n",
       "  </tbody>\n",
       "</table>\n",
       "</div>"
      ],
      "text/plain": [
       "                                     count        mean         std    min  \\\n",
       "referral_id                          499.0  250.000000  144.193157   1.00   \n",
       "referral_age                         499.0   27.020040    2.811979  20.00   \n",
       "referral_exp_in_years                499.0    4.053307    2.609814   1.00   \n",
       "referral_current_salary              499.0   86.472946   52.566584  25.00   \n",
       "referral_10_th_marks                 498.0   77.459839   10.559375  60.00   \n",
       "referral_12th_marks                  499.0   77.478958   10.932113  12.00   \n",
       "referral_graduation_marks            498.0   77.096386   10.812223  -1.00   \n",
       "referral_post_grad_marks             498.0   78.269076   10.478487  60.00   \n",
       "referral_expected_sal                497.0  108.692153   58.722281  40.00   \n",
       "referral_aptitude_numerical_score    495.0   20.975737   12.557692   0.43   \n",
       "referral_aptitude_verbal_score       489.0   21.840491   12.338425   0.43   \n",
       "referral_aptitude_reasoning_score    491.0   23.710407   13.500118   0.23   \n",
       "referral_Management_Interview_score  498.0    5.732932    2.922706   1.00   \n",
       "referral_HR_Interview_score          499.0    5.651303    5.500516   1.00   \n",
       "Salary offered                       499.0  102.006012   52.619704  40.00   \n",
       "\n",
       "                                        25%     50%     75%     max  \n",
       "referral_id                          125.50  250.00  374.50  499.00  \n",
       "referral_age                          25.00   27.00   29.00   65.00  \n",
       "referral_exp_in_years                  2.00    4.00    6.00   42.00  \n",
       "referral_current_salary               45.00   85.00  126.00  853.00  \n",
       "referral_10_th_marks                  68.00   78.00   87.00  103.00  \n",
       "referral_12th_marks                   69.00   77.00   87.00   95.00  \n",
       "referral_graduation_marks             68.00   77.00   86.00  104.00  \n",
       "referral_post_grad_marks              69.00   78.00   88.75  101.00  \n",
       "referral_expected_sal                 62.00  103.00  143.00  870.00  \n",
       "referral_aptitude_numerical_score     10.00   20.43   32.17   43.48  \n",
       "referral_aptitude_verbal_score        11.74   20.87   32.61   43.48  \n",
       "referral_aptitude_reasoning_score     13.04   23.48   34.78   89.00  \n",
       "referral_Management_Interview_score    3.00    6.00    8.00   10.00  \n",
       "referral_HR_Interview_score            3.00    5.00    8.00  111.00  \n",
       "Salary offered                        60.00  101.00  141.00  868.00  "
      ]
     },
     "execution_count": 81,
     "metadata": {},
     "output_type": "execute_result"
    }
   ],
   "source": [
    "df.describe().T"
   ]
  },
  {
   "cell_type": "markdown",
   "id": "503762de",
   "metadata": {},
   "source": [
    "# Now we can see that column 'referral_graduation_marks' has negative value. We will replace the negative value by mean value because mean and median are almost equal....See below"
   ]
  },
  {
   "cell_type": "code",
   "execution_count": 83,
   "id": "b3d00f1c",
   "metadata": {},
   "outputs": [
    {
     "data": {
      "text/plain": [
       "count    498.000000\n",
       "mean      77.096386\n",
       "std       10.812223\n",
       "min       -1.000000\n",
       "25%       68.000000\n",
       "50%       77.000000\n",
       "75%       86.000000\n",
       "max      104.000000\n",
       "Name: referral_graduation_marks, dtype: float64"
      ]
     },
     "execution_count": 83,
     "metadata": {},
     "output_type": "execute_result"
    }
   ],
   "source": [
    "df['referral_graduation_marks'].describe()"
   ]
  },
  {
   "cell_type": "code",
   "execution_count": 84,
   "id": "13178f8e",
   "metadata": {},
   "outputs": [
    {
     "data": {
      "text/plain": [
       "77.09638554216868"
      ]
     },
     "execution_count": 84,
     "metadata": {},
     "output_type": "execute_result"
    }
   ],
   "source": [
    "df['referral_graduation_marks'].mean()"
   ]
  },
  {
   "cell_type": "code",
   "execution_count": 85,
   "id": "e70abb1e",
   "metadata": {},
   "outputs": [],
   "source": [
    "df['referral_graduation_marks'].replace(-1,df['referral_graduation_marks'].mean(), inplace=True)"
   ]
  },
  {
   "cell_type": "code",
   "execution_count": 86,
   "id": "b6dfdde6",
   "metadata": {},
   "outputs": [
    {
     "data": {
      "text/plain": [
       "referral_id                                  271\n",
       "referral_age                                  29\n",
       "referral_exp_in_years                        6.0\n",
       "referral_preferred_city                Bangalore\n",
       "referral_current_salary                      126\n",
       "referral_10_th_marks                        82.0\n",
       "referral_12th_marks                           88\n",
       "referral_graduation_marks              77.096386\n",
       "referral_post_grad_marks                    64.0\n",
       "referral_gender                             Male\n",
       "referral_expected_sal                      143.0\n",
       "referral_aptitude_numerical_score          10.43\n",
       "referral_aptitude_verbal_score             27.39\n",
       "referral_aptitude_reasoning_score          27.83\n",
       "referral_Management_Interview_score          1.0\n",
       "referral_HR_Interview_score                    6\n",
       "Salary offered                               141\n",
       "Emp_Salary_Grade                             ML0\n",
       "Joined                                        No\n",
       "Name: 270, dtype: object"
      ]
     },
     "execution_count": 86,
     "metadata": {},
     "output_type": "execute_result"
    }
   ],
   "source": [
    "df.iloc[270]"
   ]
  },
  {
   "cell_type": "code",
   "execution_count": 87,
   "id": "f0e01f8f",
   "metadata": {},
   "outputs": [
    {
     "data": {
      "text/plain": [
       "count    498.000000\n",
       "mean      77.253206\n",
       "std       10.227796\n",
       "min       60.000000\n",
       "25%       68.000000\n",
       "50%       77.000000\n",
       "75%       86.000000\n",
       "max      104.000000\n",
       "Name: referral_graduation_marks, dtype: float64"
      ]
     },
     "execution_count": 87,
     "metadata": {},
     "output_type": "execute_result"
    }
   ],
   "source": [
    "df['referral_graduation_marks'].describe()"
   ]
  },
  {
   "cell_type": "markdown",
   "id": "8490fe7b",
   "metadata": {},
   "source": [
    "# Let's check the 4 categorical colums"
   ]
  },
  {
   "cell_type": "code",
   "execution_count": 88,
   "id": "be579e47",
   "metadata": {},
   "outputs": [
    {
     "name": "stdout",
     "output_type": "stream",
     "text": [
      "<class 'pandas.core.frame.DataFrame'>\n",
      "RangeIndex: 499 entries, 0 to 498\n",
      "Data columns (total 19 columns):\n",
      " #   Column                               Non-Null Count  Dtype  \n",
      "---  ------                               --------------  -----  \n",
      " 0   referral_id                          499 non-null    int64  \n",
      " 1   referral_age                         499 non-null    int64  \n",
      " 2   referral_exp_in_years                499 non-null    float64\n",
      " 3   referral_preferred_city              499 non-null    object \n",
      " 4   referral_current_salary              499 non-null    int64  \n",
      " 5   referral_10_th_marks                 498 non-null    float64\n",
      " 6   referral_12th_marks                  499 non-null    int64  \n",
      " 7   referral_graduation_marks            498 non-null    float64\n",
      " 8   referral_post_grad_marks             498 non-null    float64\n",
      " 9   referral_gender                      499 non-null    object \n",
      " 10  referral_expected_sal                497 non-null    float64\n",
      " 11  referral_aptitude_numerical_score    495 non-null    float64\n",
      " 12  referral_aptitude_verbal_score       489 non-null    float64\n",
      " 13  referral_aptitude_reasoning_score    491 non-null    float64\n",
      " 14  referral_Management_Interview_score  498 non-null    float64\n",
      " 15  referral_HR_Interview_score          499 non-null    int64  \n",
      " 16  Salary offered                       499 non-null    int64  \n",
      " 17  Emp_Salary_Grade                     499 non-null    object \n",
      " 18  Joined                               499 non-null    object \n",
      "dtypes: float64(9), int64(6), object(4)\n",
      "memory usage: 74.2+ KB\n"
     ]
    }
   ],
   "source": [
    "df.info()"
   ]
  },
  {
   "cell_type": "code",
   "execution_count": 89,
   "id": "8d5bb7cf",
   "metadata": {},
   "outputs": [
    {
     "data": {
      "text/plain": [
       "Mumbai       232\n",
       "Bangalore    142\n",
       "Delhi         93\n",
       "Pune          32\n",
       "Name: referral_preferred_city, dtype: int64"
      ]
     },
     "execution_count": 89,
     "metadata": {},
     "output_type": "execute_result"
    }
   ],
   "source": [
    "df['referral_preferred_city'].value_counts()"
   ]
  },
  {
   "cell_type": "code",
   "execution_count": 90,
   "id": "c1c25561",
   "metadata": {},
   "outputs": [
    {
     "data": {
      "text/plain": [
       "Male      260\n",
       "Female    238\n",
       "?           1\n",
       "Name: referral_gender, dtype: int64"
      ]
     },
     "execution_count": 90,
     "metadata": {},
     "output_type": "execute_result"
    }
   ],
   "source": [
    "df['referral_gender'].value_counts()"
   ]
  },
  {
   "cell_type": "code",
   "execution_count": 92,
   "id": "81d11c5b",
   "metadata": {},
   "outputs": [
    {
     "data": {
      "text/plain": [
       "EL0    221\n",
       "ML0    187\n",
       "EE0     91\n",
       "Name: Emp_Salary_Grade, dtype: int64"
      ]
     },
     "execution_count": 92,
     "metadata": {},
     "output_type": "execute_result"
    }
   ],
   "source": [
    "df['Emp_Salary_Grade'].value_counts()"
   ]
  },
  {
   "cell_type": "code",
   "execution_count": 93,
   "id": "2289f225",
   "metadata": {},
   "outputs": [
    {
     "data": {
      "text/plain": [
       "No     261\n",
       "Yes    238\n",
       "Name: Joined, dtype: int64"
      ]
     },
     "execution_count": 93,
     "metadata": {},
     "output_type": "execute_result"
    }
   ],
   "source": [
    "df['Joined'].value_counts()"
   ]
  },
  {
   "cell_type": "markdown",
   "id": "81366e00",
   "metadata": {},
   "source": [
    "# Whenever we try to impute categorical values we check the mode"
   ]
  },
  {
   "cell_type": "code",
   "execution_count": 94,
   "id": "88cf9ece",
   "metadata": {},
   "outputs": [
    {
     "data": {
      "text/plain": [
       "0    Male\n",
       "Name: referral_gender, dtype: object"
      ]
     },
     "execution_count": 94,
     "metadata": {},
     "output_type": "execute_result"
    }
   ],
   "source": [
    "df['referral_gender'].mode()"
   ]
  },
  {
   "cell_type": "markdown",
   "id": "755dc4af",
   "metadata": {},
   "source": [
    "# As there is only 1 missing value we can put impute it with the mode valus....Below is the code"
   ]
  },
  {
   "cell_type": "code",
   "execution_count": 95,
   "id": "1ebb052a",
   "metadata": {},
   "outputs": [],
   "source": [
    "df['referral_gender'].replace('?' , df['referral_gender'].mode()[0] , inplace=True)"
   ]
  },
  {
   "cell_type": "markdown",
   "id": "76e53efb",
   "metadata": {},
   "source": [
    "# Let's check missing values"
   ]
  },
  {
   "cell_type": "code",
   "execution_count": 97,
   "id": "96580113",
   "metadata": {},
   "outputs": [
    {
     "data": {
      "text/plain": [
       "referral_id                             0\n",
       "referral_age                            0\n",
       "referral_exp_in_years                   0\n",
       "referral_preferred_city                 0\n",
       "referral_current_salary                 0\n",
       "referral_10_th_marks                    1\n",
       "referral_12th_marks                     0\n",
       "referral_graduation_marks               1\n",
       "referral_post_grad_marks                1\n",
       "referral_gender                         0\n",
       "referral_expected_sal                   2\n",
       "referral_aptitude_numerical_score       4\n",
       "referral_aptitude_verbal_score         10\n",
       "referral_aptitude_reasoning_score       8\n",
       "referral_Management_Interview_score     1\n",
       "referral_HR_Interview_score             0\n",
       "Salary offered                          0\n",
       "Emp_Salary_Grade                        0\n",
       "Joined                                  0\n",
       "dtype: int64"
      ]
     },
     "execution_count": 97,
     "metadata": {},
     "output_type": "execute_result"
    }
   ],
   "source": [
    "df.isnull().sum()"
   ]
  },
  {
   "cell_type": "markdown",
   "id": "0dbd063c",
   "metadata": {},
   "source": [
    "# Let's check for outliers in column 'referral_aptitude_verbal_score' it has 10 missing values"
   ]
  },
  {
   "cell_type": "code",
   "execution_count": 105,
   "id": "6f513901",
   "metadata": {},
   "outputs": [
    {
     "data": {
      "image/png": "[encoded data removed]",
      "text/plain": [
       "<Figure size 500x200 with 1 Axes>"
      ]
     },
     "metadata": {},
     "output_type": "display_data"
    }
   ],
   "source": [
    "plt.figure(figsize=(5,2))\n",
    "sns.boxplot(data=df, x= 'referral_aptitude_verbal_score');"
   ]
  },
  {
   "cell_type": "markdown",
   "id": "c33e2179",
   "metadata": {},
   "source": [
    "# As we can see there is no outlier and the data is mostly symmetrical we can use mean to impute the missing values"
   ]
  },
  {
   "cell_type": "code",
   "execution_count": 106,
   "id": "52eda49c",
   "metadata": {},
   "outputs": [
    {
     "data": {
      "text/plain": [
       "count    489.000000\n",
       "mean      21.840491\n",
       "std       12.338425\n",
       "min        0.430000\n",
       "25%       11.740000\n",
       "50%       20.870000\n",
       "75%       32.610000\n",
       "max       43.480000\n",
       "Name: referral_aptitude_verbal_score, dtype: float64"
      ]
     },
     "execution_count": 106,
     "metadata": {},
     "output_type": "execute_result"
    }
   ],
   "source": [
    "df.referral_aptitude_verbal_score.describe()"
   ]
  },
  {
   "cell_type": "code",
   "execution_count": 108,
   "id": "085f7b5e",
   "metadata": {},
   "outputs": [],
   "source": [
    "df.referral_aptitude_verbal_score.fillna(df.referral_aptitude_verbal_score.mean(),inplace=True)"
   ]
  },
  {
   "cell_type": "code",
   "execution_count": 110,
   "id": "0c7deb27",
   "metadata": {},
   "outputs": [
    {
     "data": {
      "text/plain": [
       "referral_id                            0\n",
       "referral_age                           0\n",
       "referral_exp_in_years                  0\n",
       "referral_preferred_city                0\n",
       "referral_current_salary                0\n",
       "referral_10_th_marks                   1\n",
       "referral_12th_marks                    0\n",
       "referral_graduation_marks              1\n",
       "referral_post_grad_marks               1\n",
       "referral_gender                        0\n",
       "referral_expected_sal                  2\n",
       "referral_aptitude_numerical_score      4\n",
       "referral_aptitude_verbal_score         0\n",
       "referral_aptitude_reasoning_score      8\n",
       "referral_Management_Interview_score    1\n",
       "referral_HR_Interview_score            0\n",
       "Salary offered                         0\n",
       "Emp_Salary_Grade                       0\n",
       "Joined                                 0\n",
       "dtype: int64"
      ]
     },
     "execution_count": 110,
     "metadata": {},
     "output_type": "execute_result"
    }
   ],
   "source": [
    "df.isnull().sum()"
   ]
  },
  {
   "cell_type": "markdown",
   "id": "53d219a1",
   "metadata": {},
   "source": [
    "# Now in order to impute other columns we will create data frames based on the column data type....Below is the code"
   ]
  },
  {
   "cell_type": "code",
   "execution_count": 111,
   "id": "e061e55d",
   "metadata": {},
   "outputs": [],
   "source": [
    "df_num = df.select_dtypes(['float64','int64'])\n",
    "df_cat = df.select_dtypes(['object'])"
   ]
  },
  {
   "cell_type": "code",
   "execution_count": 113,
   "id": "3fc58f77",
   "metadata": {},
   "outputs": [
    {
     "name": "stdout",
     "output_type": "stream",
     "text": [
      "<class 'pandas.core.frame.DataFrame'>\n",
      "RangeIndex: 499 entries, 0 to 498\n",
      "Data columns (total 15 columns):\n",
      " #   Column                               Non-Null Count  Dtype  \n",
      "---  ------                               --------------  -----  \n",
      " 0   referral_id                          499 non-null    int64  \n",
      " 1   referral_age                         499 non-null    int64  \n",
      " 2   referral_exp_in_years                499 non-null    float64\n",
      " 3   referral_current_salary              499 non-null    int64  \n",
      " 4   referral_10_th_marks                 498 non-null    float64\n",
      " 5   referral_12th_marks                  499 non-null    int64  \n",
      " 6   referral_graduation_marks            498 non-null    float64\n",
      " 7   referral_post_grad_marks             498 non-null    float64\n",
      " 8   referral_expected_sal                497 non-null    float64\n",
      " 9   referral_aptitude_numerical_score    495 non-null    float64\n",
      " 10  referral_aptitude_verbal_score       499 non-null    float64\n",
      " 11  referral_aptitude_reasoning_score    491 non-null    float64\n",
      " 12  referral_Management_Interview_score  498 non-null    float64\n",
      " 13  referral_HR_Interview_score          499 non-null    int64  \n",
      " 14  Salary offered                       499 non-null    int64  \n",
      "dtypes: float64(9), int64(6)\n",
      "memory usage: 58.6 KB\n"
     ]
    }
   ],
   "source": [
    "df_num.info()"
   ]
  },
  {
   "cell_type": "code",
   "execution_count": 114,
   "id": "8e1bba62",
   "metadata": {},
   "outputs": [
    {
     "name": "stdout",
     "output_type": "stream",
     "text": [
      "<class 'pandas.core.frame.DataFrame'>\n",
      "RangeIndex: 499 entries, 0 to 498\n",
      "Data columns (total 4 columns):\n",
      " #   Column                   Non-Null Count  Dtype \n",
      "---  ------                   --------------  ----- \n",
      " 0   referral_preferred_city  499 non-null    object\n",
      " 1   referral_gender          499 non-null    object\n",
      " 2   Emp_Salary_Grade         499 non-null    object\n",
      " 3   Joined                   499 non-null    object\n",
      "dtypes: object(4)\n",
      "memory usage: 15.7+ KB\n"
     ]
    }
   ],
   "source": [
    "df_cat.info()"
   ]
  },
  {
   "cell_type": "markdown",
   "id": "c5b75213",
   "metadata": {},
   "source": [
    "# We will import library and impute all numerical values all together"
   ]
  },
  {
   "cell_type": "code",
   "execution_count": 115,
   "id": "2260c69a",
   "metadata": {},
   "outputs": [],
   "source": [
    "from sklearn.impute import SimpleImputer\n",
    "imputer = SimpleImputer(missing_values= np.nan, strategy='median')"
   ]
  },
  {
   "cell_type": "code",
   "execution_count": 116,
   "id": "4a8e4985",
   "metadata": {},
   "outputs": [],
   "source": [
    "df_num = pd.DataFrame(imputer.fit_transform(df_num), columns=df_num.columns)"
   ]
  },
  {
   "cell_type": "code",
   "execution_count": 118,
   "id": "a321cb56",
   "metadata": {},
   "outputs": [
    {
     "data": {
      "text/plain": [
       "referral_id                            0\n",
       "referral_age                           0\n",
       "referral_exp_in_years                  0\n",
       "referral_current_salary                0\n",
       "referral_10_th_marks                   0\n",
       "referral_12th_marks                    0\n",
       "referral_graduation_marks              0\n",
       "referral_post_grad_marks               0\n",
       "referral_expected_sal                  0\n",
       "referral_aptitude_numerical_score      0\n",
       "referral_aptitude_verbal_score         0\n",
       "referral_aptitude_reasoning_score      0\n",
       "referral_Management_Interview_score    0\n",
       "referral_HR_Interview_score            0\n",
       "Salary offered                         0\n",
       "dtype: int64"
      ]
     },
     "execution_count": 118,
     "metadata": {},
     "output_type": "execute_result"
    }
   ],
   "source": [
    "df_num.isnull().sum()"
   ]
  },
  {
   "cell_type": "code",
   "execution_count": 119,
   "id": "8f84a368",
   "metadata": {},
   "outputs": [
    {
     "data": {
      "text/html": [
       "<div>\n",
       "<style scoped>\n",
       "    .dataframe tbody tr th:only-of-type {\n",
       "        vertical-align: middle;\n",
       "    }\n",
       "\n",
       "    .dataframe tbody tr th {\n",
       "        vertical-align: top;\n",
       "    }\n",
       "\n",
       "    .dataframe thead th {\n",
       "        text-align: right;\n",
       "    }\n",
       "</style>\n",
       "<table border=\"1\" class=\"dataframe\">\n",
       "  <thead>\n",
       "    <tr style=\"text-align: right;\">\n",
       "      <th></th>\n",
       "      <th>count</th>\n",
       "      <th>mean</th>\n",
       "      <th>std</th>\n",
       "      <th>min</th>\n",
       "      <th>25%</th>\n",
       "      <th>50%</th>\n",
       "      <th>75%</th>\n",
       "      <th>max</th>\n",
       "    </tr>\n",
       "  </thead>\n",
       "  <tbody>\n",
       "    <tr>\n",
       "      <th>referral_id</th>\n",
       "      <td>499.0</td>\n",
       "      <td>250.000000</td>\n",
       "      <td>144.193157</td>\n",
       "      <td>1.00</td>\n",
       "      <td>125.50</td>\n",
       "      <td>250.00</td>\n",
       "      <td>374.500</td>\n",
       "      <td>499.00</td>\n",
       "    </tr>\n",
       "    <tr>\n",
       "      <th>referral_age</th>\n",
       "      <td>499.0</td>\n",
       "      <td>27.020040</td>\n",
       "      <td>2.811979</td>\n",
       "      <td>20.00</td>\n",
       "      <td>25.00</td>\n",
       "      <td>27.00</td>\n",
       "      <td>29.000</td>\n",
       "      <td>65.00</td>\n",
       "    </tr>\n",
       "    <tr>\n",
       "      <th>referral_exp_in_years</th>\n",
       "      <td>499.0</td>\n",
       "      <td>4.053307</td>\n",
       "      <td>2.609814</td>\n",
       "      <td>1.00</td>\n",
       "      <td>2.00</td>\n",
       "      <td>4.00</td>\n",
       "      <td>6.000</td>\n",
       "      <td>42.00</td>\n",
       "    </tr>\n",
       "    <tr>\n",
       "      <th>referral_current_salary</th>\n",
       "      <td>499.0</td>\n",
       "      <td>86.472946</td>\n",
       "      <td>52.566584</td>\n",
       "      <td>25.00</td>\n",
       "      <td>45.00</td>\n",
       "      <td>85.00</td>\n",
       "      <td>126.000</td>\n",
       "      <td>853.00</td>\n",
       "    </tr>\n",
       "    <tr>\n",
       "      <th>referral_10_th_marks</th>\n",
       "      <td>499.0</td>\n",
       "      <td>77.460922</td>\n",
       "      <td>10.548795</td>\n",
       "      <td>60.00</td>\n",
       "      <td>68.00</td>\n",
       "      <td>78.00</td>\n",
       "      <td>87.000</td>\n",
       "      <td>103.00</td>\n",
       "    </tr>\n",
       "    <tr>\n",
       "      <th>referral_12th_marks</th>\n",
       "      <td>499.0</td>\n",
       "      <td>77.478958</td>\n",
       "      <td>10.932113</td>\n",
       "      <td>12.00</td>\n",
       "      <td>69.00</td>\n",
       "      <td>77.00</td>\n",
       "      <td>87.000</td>\n",
       "      <td>95.00</td>\n",
       "    </tr>\n",
       "    <tr>\n",
       "      <th>referral_graduation_marks</th>\n",
       "      <td>499.0</td>\n",
       "      <td>77.252698</td>\n",
       "      <td>10.217528</td>\n",
       "      <td>60.00</td>\n",
       "      <td>68.00</td>\n",
       "      <td>77.00</td>\n",
       "      <td>86.000</td>\n",
       "      <td>104.00</td>\n",
       "    </tr>\n",
       "    <tr>\n",
       "      <th>referral_post_grad_marks</th>\n",
       "      <td>499.0</td>\n",
       "      <td>78.268537</td>\n",
       "      <td>10.467968</td>\n",
       "      <td>60.00</td>\n",
       "      <td>69.00</td>\n",
       "      <td>78.00</td>\n",
       "      <td>88.500</td>\n",
       "      <td>101.00</td>\n",
       "    </tr>\n",
       "    <tr>\n",
       "      <th>referral_expected_sal</th>\n",
       "      <td>499.0</td>\n",
       "      <td>108.669339</td>\n",
       "      <td>58.605352</td>\n",
       "      <td>40.00</td>\n",
       "      <td>62.00</td>\n",
       "      <td>103.00</td>\n",
       "      <td>143.000</td>\n",
       "      <td>870.00</td>\n",
       "    </tr>\n",
       "    <tr>\n",
       "      <th>referral_aptitude_numerical_score</th>\n",
       "      <td>499.0</td>\n",
       "      <td>20.971363</td>\n",
       "      <td>12.507253</td>\n",
       "      <td>0.43</td>\n",
       "      <td>10.00</td>\n",
       "      <td>20.43</td>\n",
       "      <td>31.955</td>\n",
       "      <td>43.48</td>\n",
       "    </tr>\n",
       "    <tr>\n",
       "      <th>referral_aptitude_verbal_score</th>\n",
       "      <td>499.0</td>\n",
       "      <td>21.840491</td>\n",
       "      <td>12.213917</td>\n",
       "      <td>0.43</td>\n",
       "      <td>11.74</td>\n",
       "      <td>21.74</td>\n",
       "      <td>32.610</td>\n",
       "      <td>43.48</td>\n",
       "    </tr>\n",
       "    <tr>\n",
       "      <th>referral_aptitude_reasoning_score</th>\n",
       "      <td>499.0</td>\n",
       "      <td>23.706713</td>\n",
       "      <td>13.391275</td>\n",
       "      <td>0.23</td>\n",
       "      <td>13.04</td>\n",
       "      <td>23.48</td>\n",
       "      <td>34.350</td>\n",
       "      <td>89.00</td>\n",
       "    </tr>\n",
       "    <tr>\n",
       "      <th>referral_Management_Interview_score</th>\n",
       "      <td>499.0</td>\n",
       "      <td>5.733467</td>\n",
       "      <td>2.919795</td>\n",
       "      <td>1.00</td>\n",
       "      <td>3.00</td>\n",
       "      <td>6.00</td>\n",
       "      <td>8.000</td>\n",
       "      <td>10.00</td>\n",
       "    </tr>\n",
       "    <tr>\n",
       "      <th>referral_HR_Interview_score</th>\n",
       "      <td>499.0</td>\n",
       "      <td>5.651303</td>\n",
       "      <td>5.500516</td>\n",
       "      <td>1.00</td>\n",
       "      <td>3.00</td>\n",
       "      <td>5.00</td>\n",
       "      <td>8.000</td>\n",
       "      <td>111.00</td>\n",
       "    </tr>\n",
       "    <tr>\n",
       "      <th>Salary offered</th>\n",
       "      <td>499.0</td>\n",
       "      <td>102.006012</td>\n",
       "      <td>52.619704</td>\n",
       "      <td>40.00</td>\n",
       "      <td>60.00</td>\n",
       "      <td>101.00</td>\n",
       "      <td>141.000</td>\n",
       "      <td>868.00</td>\n",
       "    </tr>\n",
       "  </tbody>\n",
       "</table>\n",
       "</div>"
      ],
      "text/plain": [
       "                                     count        mean         std    min  \\\n",
       "referral_id                          499.0  250.000000  144.193157   1.00   \n",
       "referral_age                         499.0   27.020040    2.811979  20.00   \n",
       "referral_exp_in_years                499.0    4.053307    2.609814   1.00   \n",
       "referral_current_salary              499.0   86.472946   52.566584  25.00   \n",
       "referral_10_th_marks                 499.0   77.460922   10.548795  60.00   \n",
       "referral_12th_marks                  499.0   77.478958   10.932113  12.00   \n",
       "referral_graduation_marks            499.0   77.252698   10.217528  60.00   \n",
       "referral_post_grad_marks             499.0   78.268537   10.467968  60.00   \n",
       "referral_expected_sal                499.0  108.669339   58.605352  40.00   \n",
       "referral_aptitude_numerical_score    499.0   20.971363   12.507253   0.43   \n",
       "referral_aptitude_verbal_score       499.0   21.840491   12.213917   0.43   \n",
       "referral_aptitude_reasoning_score    499.0   23.706713   13.391275   0.23   \n",
       "referral_Management_Interview_score  499.0    5.733467    2.919795   1.00   \n",
       "referral_HR_Interview_score          499.0    5.651303    5.500516   1.00   \n",
       "Salary offered                       499.0  102.006012   52.619704  40.00   \n",
       "\n",
       "                                        25%     50%      75%     max  \n",
       "referral_id                          125.50  250.00  374.500  499.00  \n",
       "referral_age                          25.00   27.00   29.000   65.00  \n",
       "referral_exp_in_years                  2.00    4.00    6.000   42.00  \n",
       "referral_current_salary               45.00   85.00  126.000  853.00  \n",
       "referral_10_th_marks                  68.00   78.00   87.000  103.00  \n",
       "referral_12th_marks                   69.00   77.00   87.000   95.00  \n",
       "referral_graduation_marks             68.00   77.00   86.000  104.00  \n",
       "referral_post_grad_marks              69.00   78.00   88.500  101.00  \n",
       "referral_expected_sal                 62.00  103.00  143.000  870.00  \n",
       "referral_aptitude_numerical_score     10.00   20.43   31.955   43.48  \n",
       "referral_aptitude_verbal_score        11.74   21.74   32.610   43.48  \n",
       "referral_aptitude_reasoning_score     13.04   23.48   34.350   89.00  \n",
       "referral_Management_Interview_score    3.00    6.00    8.000   10.00  \n",
       "referral_HR_Interview_score            3.00    5.00    8.000  111.00  \n",
       "Salary offered                        60.00  101.00  141.000  868.00  "
      ]
     },
     "execution_count": 119,
     "metadata": {},
     "output_type": "execute_result"
    }
   ],
   "source": [
    "df_num.describe().T"
   ]
  },
  {
   "cell_type": "code",
   "execution_count": 120,
   "id": "cbdca55f",
   "metadata": {},
   "outputs": [
    {
     "name": "stdout",
     "output_type": "stream",
     "text": [
      "<class 'pandas.core.frame.DataFrame'>\n",
      "RangeIndex: 499 entries, 0 to 498\n",
      "Data columns (total 4 columns):\n",
      " #   Column                   Non-Null Count  Dtype \n",
      "---  ------                   --------------  ----- \n",
      " 0   referral_preferred_city  499 non-null    object\n",
      " 1   referral_gender          499 non-null    object\n",
      " 2   Emp_Salary_Grade         499 non-null    object\n",
      " 3   Joined                   499 non-null    object\n",
      "dtypes: object(4)\n",
      "memory usage: 15.7+ KB\n"
     ]
    }
   ],
   "source": [
    "df_cat.info()"
   ]
  },
  {
   "cell_type": "markdown",
   "id": "32401b6f",
   "metadata": {},
   "source": [
    "# Now since the numerical and categoical values have no missing values. We can concatenate the numerical and categorical values in new data frame"
   ]
  },
  {
   "cell_type": "code",
   "execution_count": 1,
   "id": "010eecb4",
   "metadata": {},
   "outputs": [
    {
     "ename": "NameError",
     "evalue": "name 'pd' is not defined",
     "output_type": "error",
     "traceback": [
      "\u001b[1;31m---------------------------------------------------------------------------\u001b[0m",
      "\u001b[1;31mNameError\u001b[0m                                 Traceback (most recent call last)",
      "Cell \u001b[1;32mIn[1], line 1\u001b[0m\n\u001b[1;32m----> 1\u001b[0m df_new \u001b[38;5;241m=\u001b[39m pd\u001b[38;5;241m.\u001b[39mconcat([df_num,df_cat] , axis\u001b[38;5;241m=\u001b[39m\u001b[38;5;241m1\u001b[39m, join\u001b[38;5;241m=\u001b[39m\u001b[38;5;124m'\u001b[39m\u001b[38;5;124minner\u001b[39m\u001b[38;5;124m'\u001b[39m)\n",
      "\u001b[1;31mNameError\u001b[0m: name 'pd' is not defined"
     ]
    }
   ],
   "source": [
    "df_new = pd.concat([df_num,df_cat] , axis=1, join='inner')"
   ]
  },
  {
   "cell_type": "code",
   "execution_count": null,
   "id": "1bfe85af",
   "metadata": {},
   "outputs": [],
   "source": [
    "df_new.info()"
   ]
  },
  {
   "cell_type": "code",
   "execution_count": 124,
   "id": "79d08bd8",
   "metadata": {},
   "outputs": [
    {
     "data": {
      "text/plain": [
       "(499, 19)"
      ]
     },
     "execution_count": 124,
     "metadata": {},
     "output_type": "execute_result"
    }
   ],
   "source": [
    "df_new.shape"
   ]
  },
  {
   "cell_type": "markdown",
   "id": "fc5bf95b",
   "metadata": {},
   "source": [
    "# We can also drop the misssing values if we want by function df = df.dropna()"
   ]
  },
  {
   "cell_type": "markdown",
   "id": "a3ebdef6",
   "metadata": {},
   "source": [
    "# Now we will check the duplicates in rows there is a function for it."
   ]
  },
  {
   "cell_type": "code",
   "execution_count": 125,
   "id": "e3e2319d",
   "metadata": {},
   "outputs": [],
   "source": [
    "dups = df_new.duplicated()"
   ]
  },
  {
   "cell_type": "code",
   "execution_count": 127,
   "id": "00ca40a7",
   "metadata": {},
   "outputs": [
    {
     "name": "stdout",
     "output_type": "stream",
     "text": [
      "Duplicates are: 0\n"
     ]
    }
   ],
   "source": [
    "print(\"Duplicates are:\" ,dups.sum())"
   ]
  },
  {
   "cell_type": "markdown",
   "id": "fdaf4ab7",
   "metadata": {},
   "source": [
    "# If there are duplicates we can drop them by function - df.drop_duplicates(inplace=True)"
   ]
  },
  {
   "cell_type": "code",
   "execution_count": 129,
   "id": "484fe67f",
   "metadata": {},
   "outputs": [],
   "source": [
    "df_new.drop_duplicates(inplace=True)"
   ]
  },
  {
   "cell_type": "code",
   "execution_count": 130,
   "id": "22764f7e",
   "metadata": {},
   "outputs": [
    {
     "data": {
      "text/plain": [
       "(499, 19)"
      ]
     },
     "execution_count": 130,
     "metadata": {},
     "output_type": "execute_result"
    }
   ],
   "source": [
    "df_new.shape"
   ]
  },
  {
   "cell_type": "code",
   "execution_count": null,
   "id": "c1145184",
   "metadata": {},
   "outputs": [],
   "source": []
  },
  {
   "cell_type": "code",
   "execution_count": null,
   "id": "0d6fe19d",
   "metadata": {},
   "outputs": [],
   "source": []
  },
  {
   "cell_type": "code",
   "execution_count": null,
   "id": "fb6de826",
   "metadata": {},
   "outputs": [],
   "source": []
  },
  {
   "cell_type": "code",
   "execution_count": null,
   "id": "2c97e3f3",
   "metadata": {},
   "outputs": [],
   "source": []
  }
 ],
 "metadata": {
  "kernelspec": {
   "display_name": "Python 3 (ipykernel)",
   "language": "python",
   "name": "python3"
  },
  "language_info": {
   "codemirror_mode": {
    "name": "ipython",
    "version": 3
   },
   "file_extension": ".py",
   "mimetype": "text/x-python",
   "name": "python",
   "nbconvert_exporter": "python",
   "pygments_lexer": "ipython3",
   "version": "3.11.4"
  }
 },
 "nbformat": 4,
 "nbformat_minor": 5
}
